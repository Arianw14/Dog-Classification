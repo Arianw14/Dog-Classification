{
  "nbformat": 4,
  "nbformat_minor": 0,
  "metadata": {
    "colab": {
      "provenance": [],
      "gpuType": "T4"
    },
    "kernelspec": {
      "name": "python3",
      "display_name": "Python 3"
    },
    "language_info": {
      "name": "python"
    },
    "accelerator": "GPU"
  },
  "cells": [
    {
      "cell_type": "code",
      "execution_count": 1,
      "metadata": {
        "id": "VtkEdwpt5XP5"
      },
      "outputs": [],
      "source": [
        "import numpy as np\n",
        "import pandas as pd\n",
        "import os\n",
        "import random\n",
        "from keras.layers import Conv2D,Dense, MaxPool2D,Dropout,Flatten\n",
        "import tensorflow_datasets as tfds\n",
        "from PIL import Image\n",
        "from keras.preprocessing.image import ImageDataGenerator\n",
        "import matplotlib.pyplot as plt\n",
        "from keras.models import Sequential\n",
        "from keras.applications import vgg19\n",
        "from keras.optimizers import Adam\n",
        "import keras\n",
        "import tensorflow as tf"
      ]
    },
    {
      "cell_type": "code",
      "source": [
        "train,test=tfds.load(\"stanford_dogs\",split=[\"train[:75%]\",\"train[75%:]\"],shuffle_files=True)"
      ],
      "metadata": {
        "id": "J6YyAvBj5jQK"
      },
      "execution_count": 22,
      "outputs": []
    },
    {
      "cell_type": "code",
      "source": [
        "model = Sequential()\n",
        "model.add(Conv2D(input_shape=(224,224,3),filters=64,kernel_size=(3,3),padding=\"same\", activation=\"relu\"))\n",
        "model.add(Conv2D(filters=64,kernel_size=(3,3),padding=\"same\", activation=\"relu\"))\n",
        "model.add(MaxPool2D(pool_size=(2,2),strides=(2,2)))\n",
        "model.add(Conv2D(filters=128, kernel_size=(3,3), padding=\"same\", activation=\"relu\"))\n",
        "model.add(Conv2D(filters=128, kernel_size=(3,3), padding=\"same\", activation=\"relu\"))\n",
        "model.add(MaxPool2D(pool_size=(2,2),strides=(2,2)))\n",
        "model.add(Conv2D(filters=256, kernel_size=(3,3), padding=\"same\", activation=\"relu\"))\n",
        "model.add(Conv2D(filters=256, kernel_size=(3,3), padding=\"same\", activation=\"relu\"))\n",
        "model.add(Conv2D(filters=256, kernel_size=(3,3), padding=\"same\", activation=\"relu\"))\n",
        "model.add(MaxPool2D(pool_size=(2,2),strides=(2,2)))\n",
        "model.add(Conv2D(filters=512, kernel_size=(3,3), padding=\"same\", activation=\"relu\"))\n",
        "model.add(Conv2D(filters=512, kernel_size=(3,3), padding=\"same\", activation=\"relu\"))\n",
        "model.add(Conv2D(filters=512, kernel_size=(3,3), padding=\"same\", activation=\"relu\"))\n",
        "model.add(MaxPool2D(pool_size=(2,2),strides=(2,2)))\n",
        "model.add(Conv2D(filters=512, kernel_size=(3,3), padding=\"same\", activation=\"relu\"))\n",
        "model.add(Conv2D(filters=512, kernel_size=(3,3), padding=\"same\", activation=\"relu\"))\n",
        "model.add(Conv2D(filters=512, kernel_size=(3,3), padding=\"same\", activation=\"relu\"))\n",
        "model.add(MaxPool2D(pool_size=(2,2),strides=(2,2)))\n",
        "model.add(Flatten())\n",
        "model.add(Dense(units=4096, activation='relu'))\n",
        "model.add(Dense(units=120, activation='softmax'))"
      ],
      "metadata": {
        "id": "S7FmXl9F5mXt"
      },
      "execution_count": 3,
      "outputs": []
    },
    {
      "cell_type": "code",
      "source": [
        "model.compile(optimizer=Adam(learning_rate=0.01),loss=keras.losses.categorical_crossentropy,metrics=[\"accuracy\"])\n",
        "model.summary()"
      ],
      "metadata": {
        "colab": {
          "base_uri": "https://localhost:8080/"
        },
        "id": "xTPZkXTe5sPr",
        "outputId": "0d194cfa-104a-4af5-e74e-3ab5b98bd099"
      },
      "execution_count": 4,
      "outputs": [
        {
          "output_type": "stream",
          "name": "stdout",
          "text": [
            "Model: \"sequential\"\n",
            "_________________________________________________________________\n",
            " Layer (type)                Output Shape              Param #   \n",
            "=================================================================\n",
            " conv2d (Conv2D)             (None, 224, 224, 64)      1792      \n",
            "                                                                 \n",
            " conv2d_1 (Conv2D)           (None, 224, 224, 64)      36928     \n",
            "                                                                 \n",
            " max_pooling2d (MaxPooling2  (None, 112, 112, 64)      0         \n",
            " D)                                                              \n",
            "                                                                 \n",
            " conv2d_2 (Conv2D)           (None, 112, 112, 128)     73856     \n",
            "                                                                 \n",
            " conv2d_3 (Conv2D)           (None, 112, 112, 128)     147584    \n",
            "                                                                 \n",
            " max_pooling2d_1 (MaxPoolin  (None, 56, 56, 128)       0         \n",
            " g2D)                                                            \n",
            "                                                                 \n",
            " conv2d_4 (Conv2D)           (None, 56, 56, 256)       295168    \n",
            "                                                                 \n",
            " conv2d_5 (Conv2D)           (None, 56, 56, 256)       590080    \n",
            "                                                                 \n",
            " conv2d_6 (Conv2D)           (None, 56, 56, 256)       590080    \n",
            "                                                                 \n",
            " max_pooling2d_2 (MaxPoolin  (None, 28, 28, 256)       0         \n",
            " g2D)                                                            \n",
            "                                                                 \n",
            " conv2d_7 (Conv2D)           (None, 28, 28, 512)       1180160   \n",
            "                                                                 \n",
            " conv2d_8 (Conv2D)           (None, 28, 28, 512)       2359808   \n",
            "                                                                 \n",
            " conv2d_9 (Conv2D)           (None, 28, 28, 512)       2359808   \n",
            "                                                                 \n",
            " max_pooling2d_3 (MaxPoolin  (None, 14, 14, 512)       0         \n",
            " g2D)                                                            \n",
            "                                                                 \n",
            " conv2d_10 (Conv2D)          (None, 14, 14, 512)       2359808   \n",
            "                                                                 \n",
            " conv2d_11 (Conv2D)          (None, 14, 14, 512)       2359808   \n",
            "                                                                 \n",
            " conv2d_12 (Conv2D)          (None, 14, 14, 512)       2359808   \n",
            "                                                                 \n",
            " max_pooling2d_4 (MaxPoolin  (None, 7, 7, 512)         0         \n",
            " g2D)                                                            \n",
            "                                                                 \n",
            " flatten (Flatten)           (None, 25088)             0         \n",
            "                                                                 \n",
            " dense (Dense)               (None, 4096)              102764544 \n",
            "                                                                 \n",
            " dense_1 (Dense)             (None, 120)               491640    \n",
            "                                                                 \n",
            "=================================================================\n",
            "Total params: 117970872 (450.02 MB)\n",
            "Trainable params: 117970872 (450.02 MB)\n",
            "Non-trainable params: 0 (0.00 Byte)\n",
            "_________________________________________________________________\n"
          ]
        }
      ]
    },
    {
      "cell_type": "code",
      "source": [
        "batch_size=32\n",
        "num_epochs=100\n",
        "def preprocess_data(data):\n",
        "    image = tf.image.resize(data['image'], (224, 224))  # Resize image\n",
        "    image = tf.cast(image, tf.float32) / 255.0  # Normalize image\n",
        "    label = tf.one_hot(data['label'], depth=120)  # One-hot encode labels\n",
        "    return image, label\n",
        "\n",
        "# Apply preprocessing and batch the data\n",
        "train_data = train.map(preprocess_data).batch(batch_size)\n",
        "test_data = test.map(preprocess_data).batch(batch_size)\n",
        "\n",
        "\n",
        "\n",
        "print(len(train_data))\n"
      ],
      "metadata": {
        "colab": {
          "base_uri": "https://localhost:8080/"
        },
        "id": "Vy_26MUz5vON",
        "outputId": "49fe3633-28e8-4b0c-cbe9-1ea5aa9a159b"
      },
      "execution_count": 23,
      "outputs": [
        {
          "output_type": "stream",
          "name": "stdout",
          "text": [
            "282\n"
          ]
        }
      ]
    },
    {
      "cell_type": "code",
      "source": [
        "from keras.applications.resnet50 import ResNet50"
      ],
      "metadata": {
        "id": "omwr4cZJ51YM"
      },
      "execution_count": 7,
      "outputs": []
    },
    {
      "cell_type": "code",
      "source": [
        "m=ResNet50(weights=\"imagenet\",include_top=False)"
      ],
      "metadata": {
        "id": "KF6_9tDO6BD-"
      },
      "execution_count": 8,
      "outputs": []
    },
    {
      "cell_type": "code",
      "source": [
        "# Load the ResNet50 model with pre-trained weights\n",
        "resnet_model = ResNet50(weights='imagenet', include_top=False, input_shape=(224, 224, 3))\n",
        "\n",
        "# Freeze the pre-trained layers\n",
        "for layer in resnet_model.layers:\n",
        "    layer.trainable = False    ## This is the fix\n",
        "\n",
        "# Create a Sequential model\n",
        "model = Sequential()\n",
        "\n",
        "# Add the ResNet50 model to the Sequential model\n",
        "model.add(resnet_model)\n",
        "\n",
        "# Flatten the output of the ResNet50 model\n",
        "model.add(Flatten())\n",
        "\n",
        "# Add a Dense output layer with softmax activation for classification\n",
        "model.add(Dense(units=120, activation='softmax'))\n",
        "\n",
        "# Compile the model\n",
        "model.compile(optimizer=Adam(), loss='categorical_crossentropy', metrics=['accuracy'])\n",
        "\n",
        "# Display the model summary\n",
        "model.summary()\n",
        "\n",
        "# Train the model\n",
        "history = model.fit(train_data, epochs=50, validation_data=test_data)\n"
      ],
      "metadata": {
        "colab": {
          "base_uri": "https://localhost:8080/"
        },
        "id": "eYvaoQs36G_T",
        "outputId": "5992678e-7615-4090-b2f3-adf418c64a67"
      },
      "execution_count": 25,
      "outputs": [
        {
          "output_type": "stream",
          "name": "stdout",
          "text": [
            "Model: \"sequential_6\"\n",
            "_________________________________________________________________\n",
            " Layer (type)                Output Shape              Param #   \n",
            "=================================================================\n",
            " resnet50 (Functional)       (None, 7, 7, 2048)        23587712  \n",
            "                                                                 \n",
            " flatten_5 (Flatten)         (None, 100352)            0         \n",
            "                                                                 \n",
            " dense_7 (Dense)             (None, 120)               12042360  \n",
            "                                                                 \n",
            "=================================================================\n",
            "Total params: 35630072 (135.92 MB)\n",
            "Trainable params: 12042360 (45.94 MB)\n",
            "Non-trainable params: 23587712 (89.98 MB)\n",
            "_________________________________________________________________\n",
            "Epoch 1/50\n",
            "282/282 [==============================] - 40s 128ms/step - loss: 16.5059 - accuracy: 0.0144 - val_loss: 10.5339 - val_accuracy: 0.0173\n",
            "Epoch 2/50\n",
            "282/282 [==============================] - 37s 130ms/step - loss: 10.2371 - accuracy: 0.0424 - val_loss: 10.4693 - val_accuracy: 0.0200\n",
            "Epoch 3/50\n",
            "282/282 [==============================] - 38s 133ms/step - loss: 10.4002 - accuracy: 0.0638 - val_loss: 12.2932 - val_accuracy: 0.0183\n",
            "Epoch 4/50\n",
            "282/282 [==============================] - 37s 130ms/step - loss: 9.2726 - accuracy: 0.0977 - val_loss: 11.6238 - val_accuracy: 0.0170\n",
            "Epoch 5/50\n",
            "282/282 [==============================] - 37s 130ms/step - loss: 9.2272 - accuracy: 0.1211 - val_loss: 10.9739 - val_accuracy: 0.0180\n",
            "Epoch 6/50\n",
            "282/282 [==============================] - 37s 131ms/step - loss: 8.7193 - accuracy: 0.1453 - val_loss: 11.5914 - val_accuracy: 0.0290\n",
            "Epoch 7/50\n",
            "282/282 [==============================] - 37s 131ms/step - loss: 9.1006 - accuracy: 0.1609 - val_loss: 10.9302 - val_accuracy: 0.0297\n",
            "Epoch 8/50\n",
            "282/282 [==============================] - 37s 131ms/step - loss: 8.0885 - accuracy: 0.1918 - val_loss: 10.5174 - val_accuracy: 0.0267\n",
            "Epoch 9/50\n",
            "282/282 [==============================] - 37s 131ms/step - loss: 7.8974 - accuracy: 0.2088 - val_loss: 10.6407 - val_accuracy: 0.0187\n",
            "Epoch 10/50\n",
            "282/282 [==============================] - 35s 125ms/step - loss: 7.6065 - accuracy: 0.2259 - val_loss: 11.0546 - val_accuracy: 0.0370\n",
            "Epoch 11/50\n",
            "282/282 [==============================] - 37s 131ms/step - loss: 7.9523 - accuracy: 0.2373 - val_loss: 12.3073 - val_accuracy: 0.0313\n",
            "Epoch 12/50\n",
            "282/282 [==============================] - 35s 124ms/step - loss: 7.7406 - accuracy: 0.2556 - val_loss: 11.1132 - val_accuracy: 0.0283\n",
            "Epoch 13/50\n",
            "282/282 [==============================] - 37s 132ms/step - loss: 6.9762 - accuracy: 0.2722 - val_loss: 12.2797 - val_accuracy: 0.0307\n",
            "Epoch 14/50\n",
            "282/282 [==============================] - 37s 131ms/step - loss: 6.9804 - accuracy: 0.2846 - val_loss: 13.7111 - val_accuracy: 0.0393\n",
            "Epoch 15/50\n",
            "282/282 [==============================] - 35s 125ms/step - loss: 7.7559 - accuracy: 0.2847 - val_loss: 11.4436 - val_accuracy: 0.0393\n",
            "Epoch 16/50\n",
            "282/282 [==============================] - 35s 125ms/step - loss: 6.4944 - accuracy: 0.3170 - val_loss: 12.2975 - val_accuracy: 0.0323\n",
            "Epoch 17/50\n",
            "282/282 [==============================] - 35s 126ms/step - loss: 6.6742 - accuracy: 0.3202 - val_loss: 12.6885 - val_accuracy: 0.0393\n",
            "Epoch 18/50\n",
            "282/282 [==============================] - 37s 131ms/step - loss: 6.7547 - accuracy: 0.3223 - val_loss: 11.6390 - val_accuracy: 0.0433\n",
            "Epoch 19/50\n",
            "282/282 [==============================] - 35s 124ms/step - loss: 6.8046 - accuracy: 0.3320 - val_loss: 13.9256 - val_accuracy: 0.0363\n",
            "Epoch 20/50\n",
            "282/282 [==============================] - 35s 124ms/step - loss: 5.3134 - accuracy: 0.3847 - val_loss: 11.0188 - val_accuracy: 0.0457\n",
            "Epoch 21/50\n",
            "282/282 [==============================] - 37s 131ms/step - loss: 5.9768 - accuracy: 0.3789 - val_loss: 13.1475 - val_accuracy: 0.0380\n",
            "Epoch 22/50\n",
            "282/282 [==============================] - 37s 132ms/step - loss: 5.6437 - accuracy: 0.3814 - val_loss: 12.7213 - val_accuracy: 0.0343\n",
            "Epoch 23/50\n",
            "282/282 [==============================] - 35s 124ms/step - loss: 6.0856 - accuracy: 0.3761 - val_loss: 12.7873 - val_accuracy: 0.0387\n",
            "Epoch 24/50\n",
            "282/282 [==============================] - 35s 125ms/step - loss: 5.7696 - accuracy: 0.3969 - val_loss: 12.2651 - val_accuracy: 0.0343\n",
            "Epoch 25/50\n",
            "282/282 [==============================] - 37s 131ms/step - loss: 5.2293 - accuracy: 0.4130 - val_loss: 11.7935 - val_accuracy: 0.0373\n",
            "Epoch 26/50\n",
            "282/282 [==============================] - 35s 124ms/step - loss: 5.6891 - accuracy: 0.4094 - val_loss: 13.7319 - val_accuracy: 0.0430\n",
            "Epoch 27/50\n",
            "282/282 [==============================] - 35s 124ms/step - loss: 5.7427 - accuracy: 0.4087 - val_loss: 13.6662 - val_accuracy: 0.0380\n",
            "Epoch 28/50\n",
            "282/282 [==============================] - 37s 131ms/step - loss: 5.4783 - accuracy: 0.4299 - val_loss: 13.4981 - val_accuracy: 0.0410\n",
            "Epoch 29/50\n",
            "282/282 [==============================] - 35s 125ms/step - loss: 5.7453 - accuracy: 0.4267 - val_loss: 15.6627 - val_accuracy: 0.0390\n",
            "Epoch 30/50\n",
            "282/282 [==============================] - 35s 124ms/step - loss: 5.0236 - accuracy: 0.4494 - val_loss: 13.7815 - val_accuracy: 0.0493\n",
            "Epoch 31/50\n",
            "282/282 [==============================] - 35s 125ms/step - loss: 5.1739 - accuracy: 0.4500 - val_loss: 14.6111 - val_accuracy: 0.0350\n",
            "Epoch 32/50\n",
            "282/282 [==============================] - 37s 131ms/step - loss: 5.2571 - accuracy: 0.4539 - val_loss: 15.6823 - val_accuracy: 0.0350\n",
            "Epoch 33/50\n",
            "282/282 [==============================] - 35s 125ms/step - loss: 4.8355 - accuracy: 0.4713 - val_loss: 14.5288 - val_accuracy: 0.0487\n",
            "Epoch 34/50\n",
            "282/282 [==============================] - 37s 131ms/step - loss: 4.9053 - accuracy: 0.4684 - val_loss: 13.5816 - val_accuracy: 0.0430\n",
            "Epoch 35/50\n",
            "282/282 [==============================] - 37s 132ms/step - loss: 5.1058 - accuracy: 0.4553 - val_loss: 15.5389 - val_accuracy: 0.0357\n",
            "Epoch 36/50\n",
            "282/282 [==============================] - 35s 124ms/step - loss: 5.5423 - accuracy: 0.4529 - val_loss: 14.1886 - val_accuracy: 0.0417\n",
            "Epoch 37/50\n",
            "282/282 [==============================] - 37s 132ms/step - loss: 4.8426 - accuracy: 0.4769 - val_loss: 15.1975 - val_accuracy: 0.0403\n",
            "Epoch 38/50\n",
            "282/282 [==============================] - 37s 131ms/step - loss: 4.2208 - accuracy: 0.5021 - val_loss: 15.3640 - val_accuracy: 0.0367\n",
            "Epoch 39/50\n",
            "282/282 [==============================] - 37s 131ms/step - loss: 4.6260 - accuracy: 0.4951 - val_loss: 14.7793 - val_accuracy: 0.0417\n",
            "Epoch 40/50\n",
            "282/282 [==============================] - 35s 125ms/step - loss: 4.2964 - accuracy: 0.5117 - val_loss: 15.0334 - val_accuracy: 0.0360\n",
            "Epoch 41/50\n",
            "282/282 [==============================] - 37s 132ms/step - loss: 4.4128 - accuracy: 0.5126 - val_loss: 17.9440 - val_accuracy: 0.0347\n",
            "Epoch 42/50\n",
            "282/282 [==============================] - 37s 132ms/step - loss: 4.7510 - accuracy: 0.4994 - val_loss: 15.9263 - val_accuracy: 0.0367\n",
            "Epoch 43/50\n",
            "282/282 [==============================] - 35s 125ms/step - loss: 4.7801 - accuracy: 0.5121 - val_loss: 15.9474 - val_accuracy: 0.0360\n",
            "Epoch 44/50\n",
            "282/282 [==============================] - 35s 124ms/step - loss: 4.8250 - accuracy: 0.5148 - val_loss: 16.2479 - val_accuracy: 0.0453\n",
            "Epoch 45/50\n",
            "282/282 [==============================] - 37s 131ms/step - loss: 4.7440 - accuracy: 0.5207 - val_loss: 17.3399 - val_accuracy: 0.0363\n",
            "Epoch 46/50\n",
            "282/282 [==============================] - 35s 125ms/step - loss: 4.2344 - accuracy: 0.5418 - val_loss: 17.0820 - val_accuracy: 0.0437\n",
            "Epoch 47/50\n",
            "282/282 [==============================] - 35s 125ms/step - loss: 4.7870 - accuracy: 0.5206 - val_loss: 16.6318 - val_accuracy: 0.0383\n",
            "Epoch 48/50\n",
            "282/282 [==============================] - 35s 125ms/step - loss: 4.2235 - accuracy: 0.5490 - val_loss: 15.3145 - val_accuracy: 0.0463\n",
            "Epoch 49/50\n",
            "282/282 [==============================] - 37s 132ms/step - loss: 4.4448 - accuracy: 0.5406 - val_loss: 16.5938 - val_accuracy: 0.0433\n",
            "Epoch 50/50\n",
            "282/282 [==============================] - 37s 132ms/step - loss: 4.3490 - accuracy: 0.5484 - val_loss: 17.8883 - val_accuracy: 0.0373\n"
          ]
        }
      ]
    },
    {
      "cell_type": "code",
      "source": [
        "plt.plot(history.history['loss'], label='Training Loss')\n",
        "plt.plot(history.history['val_loss'], label='Validation Loss')\n",
        "plt.xlabel('Epoch')\n",
        "plt.ylabel('Loss')\n",
        "plt.title('Training and Validation Loss')\n",
        "plt.legend()\n",
        "plt.show()"
      ],
      "metadata": {
        "colab": {
          "base_uri": "https://localhost:8080/",
          "height": 472
        },
        "id": "OECL1h_g6I9m",
        "outputId": "559af65d-8c80-419a-ec3c-26d8447f5a65"
      },
      "execution_count": 12,
      "outputs": [
        {
          "output_type": "display_data",
          "data": {
            "text/plain": [
              "<Figure size 640x480 with 1 Axes>"
            ],
            "image/png": "[encoded data removed]"
          },
          "metadata": {}
        }
      ]
    },
    {
      "cell_type": "code",
      "source": [],
      "metadata": {
        "id": "TLiZttF4YX7M"
      },
      "execution_count": null,
      "outputs": []
    },
    {
      "cell_type": "code",
      "source": [
        "from tensorflow.keras.callbacks import ReduceLROnPlateau\n",
        "resnet_model = ResNet50(weights='imagenet', include_top=False, input_shape=(224, 224, 3))\n",
        "\n",
        "# Freeze the pre-trained layers\n",
        "for layer in resnet_model.layers[:-10]:  # Unfreeze the last 10 layers for fine-tuning\n",
        "    layer.trainable = False\n",
        "\n",
        "# Create a Sequential model\n",
        "model = Sequential()\n",
        "\n",
        "# Add the ResNet50 model to the Sequential model\n",
        "model.add(resnet_model)\n",
        "\n",
        "# Flatten the output of the ResNet50 model\n",
        "model.add(Flatten())\n",
        "\n",
        "# Add a Dense output layer with softmax activation for classification\n",
        "model.add(Dense(units=120, activation='softmax'))\n",
        "\n",
        "# Compile the model\n",
        "model.compile(optimizer=Adam(lr=0.001), loss='categorical_crossentropy', metrics=['accuracy'])\n",
        "\n",
        "# Display the model summary\n",
        "model.summary()\n",
        "\n",
        "# Train the model with learning rate scheduling\n",
        "reduce_lr = ReduceLROnPlateau(monitor='val_loss', factor=0.2, patience=5, min_lr=0.0001)\n",
        "history = model.fit(train_data, epochs=20, validation_data=test_data, callbacks=[reduce_lr])"
      ],
      "metadata": {
        "colab": {
          "base_uri": "https://localhost:8080/"
        },
        "id": "axeYf9AV6Mh_",
        "outputId": "09fe6f9d-e550-43e3-b1a0-b4ca404f676d"
      },
      "execution_count": 13,
      "outputs": [
        {
          "output_type": "stream",
          "name": "stderr",
          "text": [
            "WARNING:absl:`lr` is deprecated in Keras optimizer, please use `learning_rate` or use the legacy optimizer, e.g.,tf.keras.optimizers.legacy.Adam.\n"
          ]
        },
        {
          "output_type": "stream",
          "name": "stdout",
          "text": [
            "Model: \"sequential_4\"\n",
            "_________________________________________________________________\n",
            " Layer (type)                Output Shape              Param #   \n",
            "=================================================================\n",
            " resnet50 (Functional)       (None, 7, 7, 2048)        23587712  \n",
            "                                                                 \n",
            " flatten_3 (Flatten)         (None, 100352)            0         \n",
            "                                                                 \n",
            " dense_5 (Dense)             (None, 120)               12042360  \n",
            "                                                                 \n",
            "=================================================================\n",
            "Total params: 35630072 (135.92 MB)\n",
            "Trainable params: 16508024 (62.97 MB)\n",
            "Non-trainable params: 19122048 (72.94 MB)\n",
            "_________________________________________________________________\n",
            "Epoch 1/20\n",
            "94/94 [==============================] - 87s 557ms/step - loss: 9.7054 - accuracy: 0.0063 - val_loss: 11.7712 - val_accuracy: 0.0086 - lr: 0.0010\n",
            "Epoch 2/20\n",
            "94/94 [==============================] - 51s 549ms/step - loss: 5.7127 - accuracy: 0.0383 - val_loss: 6.2023 - val_accuracy: 0.0174 - lr: 0.0010\n",
            "Epoch 3/20\n",
            "94/94 [==============================] - 51s 547ms/step - loss: 5.0733 - accuracy: 0.0943 - val_loss: 6.6439 - val_accuracy: 0.0176 - lr: 0.0010\n",
            "Epoch 4/20\n",
            "94/94 [==============================] - 51s 546ms/step - loss: 4.5748 - accuracy: 0.1597 - val_loss: 6.5373 - val_accuracy: 0.0199 - lr: 0.0010\n",
            "Epoch 5/20\n",
            "94/94 [==============================] - 51s 546ms/step - loss: 4.0785 - accuracy: 0.2237 - val_loss: 6.9928 - val_accuracy: 0.0202 - lr: 0.0010\n",
            "Epoch 6/20\n",
            "94/94 [==============================] - 51s 546ms/step - loss: 3.6614 - accuracy: 0.2883 - val_loss: 7.0082 - val_accuracy: 0.0210 - lr: 0.0010\n",
            "Epoch 7/20\n",
            "94/94 [==============================] - 35s 378ms/step - loss: 3.2849 - accuracy: 0.3440 - val_loss: 7.2998 - val_accuracy: 0.0222 - lr: 0.0010\n",
            "Epoch 8/20\n",
            "94/94 [==============================] - 51s 547ms/step - loss: 2.1795 - accuracy: 0.5457 - val_loss: 5.7662 - val_accuracy: 0.0321 - lr: 2.0000e-04\n",
            "Epoch 9/20\n",
            "94/94 [==============================] - 35s 376ms/step - loss: 1.8627 - accuracy: 0.6107 - val_loss: 5.8842 - val_accuracy: 0.0318 - lr: 2.0000e-04\n",
            "Epoch 10/20\n",
            "94/94 [==============================] - 51s 548ms/step - loss: 1.7482 - accuracy: 0.6360 - val_loss: 6.0142 - val_accuracy: 0.0328 - lr: 2.0000e-04\n",
            "Epoch 11/20\n",
            "94/94 [==============================] - 35s 375ms/step - loss: 1.6535 - accuracy: 0.6543 - val_loss: 6.1262 - val_accuracy: 0.0326 - lr: 2.0000e-04\n",
            "Epoch 12/20\n",
            "94/94 [==============================] - 35s 375ms/step - loss: 1.5676 - accuracy: 0.6787 - val_loss: 6.2169 - val_accuracy: 0.0339 - lr: 2.0000e-04\n",
            "Epoch 13/20\n",
            "94/94 [==============================] - 35s 374ms/step - loss: 1.4834 - accuracy: 0.7007 - val_loss: 6.3299 - val_accuracy: 0.0331 - lr: 2.0000e-04\n",
            "Epoch 14/20\n",
            "94/94 [==============================] - 35s 374ms/step - loss: 1.3196 - accuracy: 0.7443 - val_loss: 6.2290 - val_accuracy: 0.0394 - lr: 1.0000e-04\n",
            "Epoch 15/20\n",
            "94/94 [==============================] - 51s 547ms/step - loss: 1.2636 - accuracy: 0.7570 - val_loss: 6.2967 - val_accuracy: 0.0398 - lr: 1.0000e-04\n",
            "Epoch 16/20\n",
            "94/94 [==============================] - 35s 377ms/step - loss: 1.2200 - accuracy: 0.7743 - val_loss: 6.3723 - val_accuracy: 0.0399 - lr: 1.0000e-04\n",
            "Epoch 17/20\n",
            "94/94 [==============================] - 35s 374ms/step - loss: 1.1769 - accuracy: 0.7843 - val_loss: 6.4451 - val_accuracy: 0.0402 - lr: 1.0000e-04\n",
            "Epoch 18/20\n",
            "94/94 [==============================] - 35s 375ms/step - loss: 1.1341 - accuracy: 0.7950 - val_loss: 6.5292 - val_accuracy: 0.0407 - lr: 1.0000e-04\n",
            "Epoch 19/20\n",
            "94/94 [==============================] - 51s 547ms/step - loss: 1.0912 - accuracy: 0.8043 - val_loss: 6.6291 - val_accuracy: 0.0408 - lr: 1.0000e-04\n",
            "Epoch 20/20\n",
            "94/94 [==============================] - 51s 546ms/step - loss: 1.0479 - accuracy: 0.8140 - val_loss: 6.7360 - val_accuracy: 0.0400 - lr: 1.0000e-04\n"
          ]
        }
      ]
    },
    {
      "cell_type": "code",
      "source": [
        "plt.plot(history.history['loss'], label='Training Loss')\n",
        "plt.plot(history.history['val_loss'], label='Validation Loss')\n",
        "plt.xlabel('Epoch')\n",
        "plt.ylabel('Loss')\n",
        "plt.title('Training and Validation Loss')\n",
        "plt.legend()\n",
        "plt.show()"
      ],
      "metadata": {
        "colab": {
          "base_uri": "https://localhost:8080/",
          "height": 472
        },
        "id": "NXohY9YrYZTp",
        "outputId": "04e19fdc-1705-4ed6-c053-f5fc4a326679"
      },
      "execution_count": 14,
      "outputs": [
        {
          "output_type": "display_data",
          "data": {
            "text/plain": [
              "<Figure size 640x480 with 1 Axes>"
            ],
            "image/png": "[encoded data removed]"
          },
          "metadata": {}
        }
      ]
    },
    {
      "cell_type": "code",
      "source": [
        "predictions = model.predict(test_data)\n",
        "\n",
        "\n",
        "predicted_class = np.argmax(predictions[0])\n",
        "\n",
        "\n",
        "predicted_probability_class_0 = predictions[0][0]\n",
        "\n",
        "print(predicted_class)\n"
      ],
      "metadata": {
        "colab": {
          "base_uri": "https://localhost:8080/"
        },
        "id": "Pt3PPI3oYZ1Z",
        "outputId": "3e3e97fa-120f-4a89-daed-6dfe7888d0a1"
      },
      "execution_count": 16,
      "outputs": [
        {
          "output_type": "stream",
          "name": "stdout",
          "text": [
            "282/282 [==============================] - 25s 87ms/step\n",
            "56\n"
          ]
        }
      ]
    },
    {
      "cell_type": "code",
      "source": [
        "import matplotlib.pyplot as plt\n",
        "\n",
        "# Get a subset of test data\n",
        "subset_size = int(0.15 * len(test_data))\n",
        "subset_test_data = test_data.take(subset_size)\n",
        "\n",
        "# Iterate over batches of test data\n",
        "for batch_images, batch_labels in subset_test_data:\n",
        "    # Make predictions for the batch\n",
        "    batch_predictions = model.predict(batch_images)\n",
        "\n",
        "    # Iterate over individual samples in the batch\n",
        "    for i in range(len(batch_labels)):\n",
        "        # Get the predicted class label for the sample\n",
        "        predicted_class = np.argmax(batch_predictions[i])\n",
        "\n",
        "        # Get the actual class label for the sample\n",
        "        actual_class = np.argmax(batch_labels[i])\n",
        "\n",
        "        # Check if the predicted label matches the actual label\n",
        "        if predicted_class == actual_class:\n",
        "            prediction_status = \"Correct\"\n",
        "        else:\n",
        "            prediction_status = \"Incorrect\"\n",
        "\n",
        "        # Get the original and predicted class names\n",
        "        original_name = class_names[actual_class]  # Assuming you have a list of class names\n",
        "        predicted_name = class_names[predicted_class]\n",
        "\n",
        "        # Plot the actual and predicted images\n",
        "        plt.figure(figsize=(8, 4))\n",
        "        plt.subplot(1, 2, 1)\n",
        "        plt.imshow(batch_images[i])\n",
        "        plt.title(f\"Actual: {original_name}\")\n",
        "        plt.axis('off')\n",
        "\n",
        "        plt.subplot(1, 2, 2)\n",
        "        plt.imshow(batch_images[i])\n",
        "        plt.title(f\"Predicted: {predicted_name}\\nStatus: {prediction_status}\")\n",
        "        plt.axis('off')\n",
        "\n",
        "        plt.show()\n"
      ],
      "metadata": {
        "colab": {
          "base_uri": "https://localhost:8080/",
          "height": 228
        },
        "id": "RGTjnc4LYurl",
        "outputId": "68f9ce2a-4bdd-4568-d825-07d3976afbee"
      },
      "execution_count": 21,
      "outputs": [
        {
          "output_type": "stream",
          "name": "stdout",
          "text": [
            "1/1 [==============================] - 0s 145ms/step\n"
          ]
        },
        {
          "output_type": "error",
          "ename": "NameError",
          "evalue": "name 'class_names' is not defined",
          "traceback": [
            "\u001b[0;31m---------------------------------------------------------------------------\u001b[0m",
            "\u001b[0;31mNameError\u001b[0m                                 Traceback (most recent call last)",
            "\u001b[0;32m<ipython-input-21-5d70f5cd8cb7>\u001b[0m in \u001b[0;36m<cell line: 8>\u001b[0;34m()\u001b[0m\n\u001b[1;32m     25\u001b[0m \u001b[0;34m\u001b[0m\u001b[0m\n\u001b[1;32m     26\u001b[0m         \u001b[0;31m# Get the original and predicted class names\u001b[0m\u001b[0;34m\u001b[0m\u001b[0;34m\u001b[0m\u001b[0m\n\u001b[0;32m---> 27\u001b[0;31m         \u001b[0moriginal_name\u001b[0m \u001b[0;34m=\u001b[0m \u001b[0mclass_names\u001b[0m\u001b[0;34m[\u001b[0m\u001b[0mactual_class\u001b[0m\u001b[0;34m]\u001b[0m  \u001b[0;31m# Assuming you have a list of class names\u001b[0m\u001b[0;34m\u001b[0m\u001b[0;34m\u001b[0m\u001b[0m\n\u001b[0m\u001b[1;32m     28\u001b[0m         \u001b[0mpredicted_name\u001b[0m \u001b[0;34m=\u001b[0m \u001b[0mclass_names\u001b[0m\u001b[0;34m[\u001b[0m\u001b[0mpredicted_class\u001b[0m\u001b[0;34m]\u001b[0m\u001b[0;34m\u001b[0m\u001b[0;34m\u001b[0m\u001b[0m\n\u001b[1;32m     29\u001b[0m \u001b[0;34m\u001b[0m\u001b[0m\n",
            "\u001b[0;31mNameError\u001b[0m: name 'class_names' is not defined"
          ]
        }
      ]
    },
    {
      "cell_type": "code",
      "source": [],
      "metadata": {
        "id": "Xrgo1-i0ZfMq"
      },
      "execution_count": null,
      "outputs": []
    }
  ]
}